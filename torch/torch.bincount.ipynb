{
  "nbformat": 4,
  "nbformat_minor": 0,
  "metadata": {
    "colab": {
      "provenance": []
    },
    "kernelspec": {
      "name": "python3",
      "display_name": "Python 3"
    },
    "language_info": {
      "name": "python"
    }
  },
  "cells": [
    {
      "cell_type": "markdown",
      "source": [
        "## torch.bincount()"
      ],
      "metadata": {
        "id": "AT4UcA3tWHHm"
      }
    },
    {
      "cell_type": "markdown",
      "source": [
        "### 1-d"
      ],
      "metadata": {
        "id": "1gXqF5ILi2o-"
      }
    },
    {
      "cell_type": "code",
      "execution_count": null,
      "metadata": {
        "id": "St7veZiYHvbB"
      },
      "outputs": [],
      "source": [
        "import torch"
      ]
    },
    {
      "cell_type": "code",
      "source": [
        "# create a tensor, length is 5\n",
        "t = torch.randint(0,10,(5,))\n",
        "t"
      ],
      "metadata": {
        "colab": {
          "base_uri": "https://localhost:8080/"
        },
        "id": "9pc5pA2OHx4M",
        "outputId": "05e1e9c2-c2fe-4a97-c38b-d9cabf9faa47"
      },
      "execution_count": null,
      "outputs": [
        {
          "output_type": "execute_result",
          "data": {
            "text/plain": [
              "tensor([2, 6, 5, 1, 5])"
            ]
          },
          "metadata": {},
          "execution_count": 6
        }
      ]
    },
    {
      "cell_type": "code",
      "source": [
        "count = torch.bincount(t)\n",
        "count"
      ],
      "metadata": {
        "colab": {
          "base_uri": "https://localhost:8080/"
        },
        "id": "KSE2DLuTIjLv",
        "outputId": "00233be2-fe1f-470a-d7d4-0ca1a19f995b"
      },
      "execution_count": null,
      "outputs": [
        {
          "output_type": "execute_result",
          "data": {
            "text/plain": [
              "tensor([0, 1, 1, 0, 0, 2, 1])"
            ]
          },
          "metadata": {},
          "execution_count": 7
        }
      ]
    },
    {
      "cell_type": "markdown",
      "source": [
        "### Multi-d\n",
        "- 如果是多维tensor, 在计数之前, 需进行flatten操作"
      ],
      "metadata": {
        "id": "j-7sAlBfjCPS"
      }
    },
    {
      "cell_type": "code",
      "source": [
        "t1 = torch.randint(0,10,(3,3))\n",
        "t1"
      ],
      "metadata": {
        "colab": {
          "base_uri": "https://localhost:8080/"
        },
        "id": "R-mQok1ojDlq",
        "outputId": "3f8d7f59-17cf-4a1e-a5ea-e66a39661f4b"
      },
      "execution_count": 9,
      "outputs": [
        {
          "output_type": "execute_result",
          "data": {
            "text/plain": [
              "tensor([[0, 4, 3],\n",
              "        [2, 1, 9],\n",
              "        [8, 5, 8]])"
            ]
          },
          "metadata": {},
          "execution_count": 9
        }
      ]
    },
    {
      "cell_type": "code",
      "source": [
        "t1 = t1.flatten()\n",
        "count_t1 = torch.bincount(t1)\n",
        "count_t1"
      ],
      "metadata": {
        "colab": {
          "base_uri": "https://localhost:8080/"
        },
        "id": "lkSjGVsbjKu4",
        "outputId": "c6db4da4-5982-4887-a1b8-0ec3c4c11542"
      },
      "execution_count": 13,
      "outputs": [
        {
          "output_type": "execute_result",
          "data": {
            "text/plain": [
              "tensor([1, 1, 1, 1, 1, 1, 0, 0, 2, 1])"
            ]
          },
          "metadata": {},
          "execution_count": 13
        }
      ]
    },
    {
      "cell_type": "code",
      "source": [],
      "metadata": {
        "id": "B0V3_l1HjOnN"
      },
      "execution_count": null,
      "outputs": []
    }
  ]
}