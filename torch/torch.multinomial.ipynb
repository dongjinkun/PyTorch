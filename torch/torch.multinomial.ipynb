{
 "cells": [
  {
   "cell_type": "markdown",
   "id": "99cd955f",
   "metadata": {},
   "source": [
    "### torch.multinomial方法解析"
   ]
  },
  {
   "cell_type": "code",
   "execution_count": 1,
   "id": "04aafded",
   "metadata": {},
   "outputs": [],
   "source": [
    "import torch"
   ]
  },
  {
   "cell_type": "markdown",
   "id": "02b69565",
   "metadata": {},
   "source": [
    "#### input tensor为vector"
   ]
  },
  {
   "cell_type": "code",
   "execution_count": 4,
   "id": "5c1942a5",
   "metadata": {},
   "outputs": [
    {
     "data": {
      "text/plain": [
       "tensor([1., 8., 4., 6., 3.])"
      ]
     },
     "execution_count": 4,
     "metadata": {},
     "output_type": "execute_result"
    }
   ],
   "source": [
    "input_tensor = torch.tensor([1, 8, 4, 6, 3],dtype=torch.float)\n",
    "input_tensor"
   ]
  },
  {
   "cell_type": "code",
   "execution_count": 5,
   "id": "e9b895da",
   "metadata": {},
   "outputs": [
    {
     "data": {
      "text/plain": [
       "tensor([3, 1])"
      ]
     },
     "execution_count": 5,
     "metadata": {},
     "output_type": "execute_result"
    }
   ],
   "source": [
    "num_samples = 2\n",
    "output_tensor = torch.multinomial(input_tensor, num_samples)\n",
    "output_tensor"
   ]
  },
  {
   "cell_type": "markdown",
   "id": "3f36dfae",
   "metadata": {},
   "source": [
    "#### input tensor为tensor"
   ]
  },
  {
   "cell_type": "code",
   "execution_count": 10,
   "id": "f9fd9726",
   "metadata": {},
   "outputs": [
    {
     "data": {
      "text/plain": [
       "(tensor([[0.1574, 0.5496, 0.0155, 0.6744, 0.4049, 0.4269, 0.6125, 0.5890],\n",
       "         [0.4629, 0.9088, 0.0980, 0.4133, 0.4441, 0.1809, 0.0920, 0.7344],\n",
       "         [0.7481, 0.4842, 0.8619, 0.6378, 0.0855, 0.4246, 0.6105, 0.0809],\n",
       "         [0.9039, 0.4378, 0.0284, 0.7569, 0.8727, 0.7914, 0.9640, 0.4335],\n",
       "         [0.2522, 0.6605, 0.8084, 0.3068, 0.6353, 0.4429, 0.8217, 0.5823]]),\n",
       " torch.Size([5, 8]))"
      ]
     },
     "execution_count": 10,
     "metadata": {},
     "output_type": "execute_result"
    }
   ],
   "source": [
    "input_tensor = torch.rand((5, 8))\n",
    "input_tensor, input_tensor.shape"
   ]
  },
  {
   "cell_type": "code",
   "execution_count": 9,
   "id": "72dde399",
   "metadata": {},
   "outputs": [
    {
     "data": {
      "text/plain": [
       "(tensor([[6, 4, 3],\n",
       "         [7, 0, 6],\n",
       "         [1, 5, 4],\n",
       "         [5, 7, 1],\n",
       "         [3, 2, 7]]),\n",
       " torch.Size([5, 3]))"
      ]
     },
     "execution_count": 9,
     "metadata": {},
     "output_type": "execute_result"
    }
   ],
   "source": [
    "num_samples = 3\n",
    "output_tensor = torch.multinomial(input_tensor, num_samples)\n",
    "output_tensor, output_tensor.shape"
   ]
  },
  {
   "cell_type": "markdown",
   "id": "ec728f1d",
   "metadata": {},
   "source": [
    "#### replacement=True"
   ]
  },
  {
   "cell_type": "code",
   "execution_count": 25,
   "id": "082ca1e1",
   "metadata": {},
   "outputs": [
    {
     "data": {
      "text/plain": [
       "(tensor([0., 4., 6., 0.]), torch.Size([4]))"
      ]
     },
     "execution_count": 25,
     "metadata": {},
     "output_type": "execute_result"
    }
   ],
   "source": [
    "input_tensor = torch.tensor([0, 4, 6, 0],dtype=torch.float)\n",
    "input_tensor, input_tensor.shape"
   ]
  },
  {
   "cell_type": "code",
   "execution_count": 27,
   "id": "f5f68d1f",
   "metadata": {},
   "outputs": [
    {
     "ename": "RuntimeError",
     "evalue": "cannot sample n_sample > prob_dist.size(-1) samples without replacement",
     "output_type": "error",
     "traceback": [
      "\u001b[1;31m---------------------------------------------------------------------------\u001b[0m",
      "\u001b[1;31mRuntimeError\u001b[0m                              Traceback (most recent call last)",
      "Cell \u001b[1;32mIn[27], line 2\u001b[0m\n\u001b[0;32m      1\u001b[0m num_samples \u001b[38;5;241m=\u001b[39m \u001b[38;5;241m5\u001b[39m\n\u001b[1;32m----> 2\u001b[0m torch\u001b[38;5;241m.\u001b[39mmultinomial(input_tensor, num_samples)\n",
      "\u001b[1;31mRuntimeError\u001b[0m: cannot sample n_sample > prob_dist.size(-1) samples without replacement"
     ]
    }
   ],
   "source": [
    "num_samples = 5\n",
    "torch.multinomial(input_tensor, num_samples)"
   ]
  },
  {
   "cell_type": "code",
   "execution_count": 28,
   "id": "23619b15",
   "metadata": {},
   "outputs": [
    {
     "data": {
      "text/plain": [
       "tensor([1, 2, 1, 2, 2])"
      ]
     },
     "execution_count": 28,
     "metadata": {},
     "output_type": "execute_result"
    }
   ],
   "source": [
    "num_samples = 5\n",
    "torch.multinomial(input_tensor, num_samples, replacement=True)"
   ]
  },
  {
   "cell_type": "code",
   "execution_count": null,
   "id": "d7bd5c27",
   "metadata": {},
   "outputs": [],
   "source": []
  },
  {
   "cell_type": "code",
   "execution_count": null,
   "id": "858f9fea",
   "metadata": {},
   "outputs": [],
   "source": []
  }
 ],
 "metadata": {
  "kernelspec": {
   "display_name": "Python 3 (ipykernel)",
   "language": "python",
   "name": "python3"
  },
  "language_info": {
   "codemirror_mode": {
    "name": "ipython",
    "version": 3
   },
   "file_extension": ".py",
   "mimetype": "text/x-python",
   "name": "python",
   "nbconvert_exporter": "python",
   "pygments_lexer": "ipython3",
   "version": "3.11.3"
  }
 },
 "nbformat": 4,
 "nbformat_minor": 5
}
